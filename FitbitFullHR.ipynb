{
 "cells": [
  {
   "cell_type": "markdown",
   "metadata": {
    "collapsed": true
   },
   "source": [
    "# Collecting 1-Second Interval Fitbit Heart Rate Data for a Range of Dates\n",
    "To start saving your own data as a CSV, you really only need to adjust the following variables in this notebook:\n",
    "\n",
    "  * USER_ID, CLIENT_SECRET (your own Fitbit credentials)\n",
    "  * start_date, end_date (dates in date range, note end_date is not inclusive)\n",
    "  * path (specifies where to save your output)"
   ]
  },
  {
   "cell_type": "markdown",
   "metadata": {},
   "source": [
    "## 1. Import the necessary Python libraries and modules: "
   ]
  },
  {
   "cell_type": "code",
   "execution_count": 165,
   "metadata": {
    "collapsed": true
   },
   "outputs": [],
   "source": [
    "#!/usr/bin/python      \n",
    "%matplotlib inline\n",
    "\n",
    "import fitbit\n",
    "import matplotlib.pyplot as plt\n",
    "import gather_keys_oauth2 as Oauth2\n",
    "import numpy as np\n",
    "import datetime\n",
    "import pandas as pd\n",
    "import csv\n",
    "import re\n",
    "from IPython.display import display"
   ]
  },
  {
   "cell_type": "markdown",
   "metadata": {},
   "source": [
    "## 2. Access the Fitbit API\n",
    "Replace 'your USER_ID' and 'your CLIENT_SECRET' ([follow this tutorial to obtain these](http://blog.mr-but-dr.xyz/en/programming/fitbit-python-heartrate-howto/)) to access your Fitbit data:"
   ]
  },
  {
   "cell_type": "code",
   "execution_count": 144,
   "metadata": {
    "collapsed": false
   },
   "outputs": [
    {
     "name": "stderr",
     "output_type": "stream",
     "text": [
      "[17/Jul/2016:20:18:32] ENGINE Listening for SIGHUP.\n",
      "INFO:cherrypy.error:[17/Jul/2016:20:18:32] ENGINE Listening for SIGHUP.\n",
      "[17/Jul/2016:20:18:32] ENGINE Listening for SIGTERM.\n",
      "INFO:cherrypy.error:[17/Jul/2016:20:18:32] ENGINE Listening for SIGTERM.\n",
      "[17/Jul/2016:20:18:32] ENGINE Listening for SIGUSR1.\n",
      "INFO:cherrypy.error:[17/Jul/2016:20:18:32] ENGINE Listening for SIGUSR1.\n",
      "[17/Jul/2016:20:18:32] ENGINE Bus STARTING\n",
      "INFO:cherrypy.error:[17/Jul/2016:20:18:32] ENGINE Bus STARTING\n",
      "[17/Jul/2016:20:18:32] ENGINE Started monitor thread 'Autoreloader'.\n",
      "INFO:cherrypy.error:[17/Jul/2016:20:18:32] ENGINE Started monitor thread 'Autoreloader'.\n",
      "[17/Jul/2016:20:18:32] ENGINE Started monitor thread '_TimeoutMonitor'.\n",
      "INFO:cherrypy.error:[17/Jul/2016:20:18:32] ENGINE Started monitor thread '_TimeoutMonitor'.\n",
      "[17/Jul/2016:20:18:32] ENGINE Serving on http://127.0.0.1:8080\n",
      "INFO:cherrypy.error:[17/Jul/2016:20:18:32] ENGINE Serving on http://127.0.0.1:8080\n",
      "[17/Jul/2016:20:18:32] ENGINE Bus STARTED\n",
      "INFO:cherrypy.error:[17/Jul/2016:20:18:32] ENGINE Bus STARTED\n",
      "INFO:cherrypy.access.4641412624:127.0.0.1 - - [17/Jul/2016:20:18:34] \"GET /?code=c58094ebedb308ec36f65f04aaec499f2cf6b5f5&state=BhEvba1rieRYQGHae4Mn1I8ZaSnZVu HTTP/1.1\" 200 122 \"\" \"Mozilla/5.0 (Macintosh; Intel Mac OS X 10_10_5) AppleWebKit/537.36 (KHTML, like Gecko) Chrome/51.0.2704.103 Safari/537.36\"\n",
      "[17/Jul/2016:20:18:35] ENGINE Bus STOPPING\n",
      "INFO:cherrypy.error:[17/Jul/2016:20:18:35] ENGINE Bus STOPPING\n",
      "[17/Jul/2016:20:18:40] ENGINE HTTP Server cherrypy._cpwsgi_server.CPWSGIServer(('127.0.0.1', 8080)) shut down\n",
      "INFO:cherrypy.error:[17/Jul/2016:20:18:40] ENGINE HTTP Server cherrypy._cpwsgi_server.CPWSGIServer(('127.0.0.1', 8080)) shut down\n",
      "[17/Jul/2016:20:18:40] ENGINE Stopped thread 'Autoreloader'.\n",
      "INFO:cherrypy.error:[17/Jul/2016:20:18:40] ENGINE Stopped thread 'Autoreloader'.\n",
      "[17/Jul/2016:20:18:40] ENGINE Stopped thread '_TimeoutMonitor'.\n",
      "INFO:cherrypy.error:[17/Jul/2016:20:18:40] ENGINE Stopped thread '_TimeoutMonitor'.\n",
      "[17/Jul/2016:20:18:40] ENGINE Bus STOPPED\n",
      "INFO:cherrypy.error:[17/Jul/2016:20:18:40] ENGINE Bus STOPPED\n",
      "[17/Jul/2016:20:18:40] ENGINE Bus EXITING\n",
      "INFO:cherrypy.error:[17/Jul/2016:20:18:40] ENGINE Bus EXITING\n",
      "[17/Jul/2016:20:18:40] ENGINE Bus EXITED\n",
      "INFO:cherrypy.error:[17/Jul/2016:20:18:40] ENGINE Bus EXITED\n",
      "[17/Jul/2016:20:18:40] ENGINE Waiting for child threads to terminate...\n",
      "INFO:cherrypy.error:[17/Jul/2016:20:18:40] ENGINE Waiting for child threads to terminate...\n"
     ]
    },
    {
     "name": "stdout",
     "output_type": "stream",
     "text": [
      "127.0.0.1 - - [17/Jul/2016:20:18:34] \"GET /?code=c58094ebedb308ec36f65f04aaec499f2cf6b5f5&state=BhEvba1rieRYQGHae4Mn1I8ZaSnZVu HTTP/1.1\" 200 122 \"\" \"Mozilla/5.0 (Macintosh; Intel Mac OS X 10_10_5) AppleWebKit/537.36 (KHTML, like Gecko) Chrome/51.0.2704.103 Safari/537.36\"\n"
     ]
    }
   ],
   "source": [
    "\"\"\"provide your credentials for OAuth2.0\"\"\"\n",
    "USER_ID = 'your USER_ID' # should look something like this: '123A4B'\n",
    "CLIENT_SECRET = 'your CLIENT_SECRET' # should look something like this: 'c321fvdc59b4cc62156n9luv20k39072'\n",
    "\n",
    "\"\"\"obtain access and refresh tokens\"\"\"\n",
    "server = Oauth2.OAuth2Server(USER_ID, CLIENT_SECRET)\n",
    "server.browser_authorize()\n",
    " \n",
    "ACCESS_TOKEN = server.oauth.token['access_token']\n",
    "REFRESH_TOKEN = server.oauth.token['refresh_token']\n",
    " \n",
    "\"\"\"complete authorization\"\"\"\n",
    "auth2_client = fitbit.Fitbit(USER_ID, CLIENT_SECRET, oauth2=True, access_token=ACCESS_TOKEN, refresh_token=REFRESH_TOKEN)"
   ]
  },
  {
   "cell_type": "markdown",
   "metadata": {},
   "source": [
    "## 3. Pick a Date Range\n",
    "In order to not exceed the rate limit, intervals shorter than 6 months typically work best (learn more about [Fitbit's rate limiting policy]).   \n",
    "\n",
    "[Fitbit's rate limiting policy]: https://dev.fitbit.com/docs/basics/#rate-limits"
   ]
  },
  {
   "cell_type": "code",
   "execution_count": 145,
   "metadata": {
    "collapsed": true
   },
   "outputs": [],
   "source": [
    "start_date = datetime.date(2016, 2, 13)\n",
    "end_date = datetime.date(2016, 2, 17) # end_date not inclusive"
   ]
  },
  {
   "cell_type": "code",
   "execution_count": 146,
   "metadata": {
    "collapsed": true
   },
   "outputs": [],
   "source": [
    "\"\"\"function to iterate over dates (resource: http://stackoverflow.com/a/1060330)\"\"\"\n",
    "\n",
    "def daterange(start_date, end_date):\n",
    "    for n in range(int ((end_date - start_date).days)): # for loop through dates in date range\n",
    "        yield start_date + datetime.timedelta(n) # return date"
   ]
  },
  {
   "cell_type": "markdown",
   "metadata": {},
   "source": [
    "## 4. Define a path to save your data files to\n",
    "If you followed the README to create folders to store your data the end of your path will look like mine, otherwise adjust as necessary:"
   ]
  },
  {
   "cell_type": "code",
   "execution_count": 147,
   "metadata": {
    "collapsed": true
   },
   "outputs": [],
   "source": [
    "# adjust your path depending on where you want to store your data\n",
    "path='/Users/amandasolis/Dropbox/Projects/python-fitbit/Data/'"
   ]
  },
  {
   "cell_type": "markdown",
   "metadata": {},
   "source": [
    "## 5. Define function for data collection\n",
    "When requesting Heart Rate data at the 1-sec interval, Fitbit actually provides data in 10 or 15 second intervals unless the tracker's \"Workout\" mode is activated. In any case, this function extracts all heart rate values provided by Fitbit and linearly interpolates missing values."
   ]
  },
  {
   "cell_type": "code",
   "execution_count": 152,
   "metadata": {
    "collapsed": true
   },
   "outputs": [],
   "source": [
    "\"\"\"Heart Rate Time Series Function -- Detail Level = 1 second\"\"\"\n",
    "\n",
    "def HR_SeriesSeconds(start_date, end_date):\n",
    "    HR_df = pd.DataFrame([]) # initialize an empty data frame\n",
    "    # create index of all 86400 seconds\n",
    "    full_index=[]\n",
    "    for i in range(0,86400):\n",
    "        sec=str(datetime.timedelta(seconds=i))\n",
    "        full_index.append(sec.zfill(8)) # pad times to have format 00:00:00 rather than 0:00:00\n",
    "    for single_date in daterange(start_date, end_date): # loop through dates in date range\n",
    "        date = single_date.strftime(\"%Y-%m-%d\")\n",
    "        # access Fitbit heart rate log and save as data frame:\n",
    "        fitbit_stats = auth2_client.intraday_time_series('activities/heart', base_date=date, detail_level='1sec')\n",
    "        stats = fitbit_stats['activities-heart-intraday']['dataset']\n",
    "        HR=pd.DataFrame(stats)\n",
    "        try: # try the following:\n",
    "            indexed_HR = HR.set_index(HR['time'])\n",
    "        except KeyError: # if there is no HR['time'] data for this date, create an empty row:\n",
    "            filler=pd.DataFrame(np.empty(86400, dtype=object))\n",
    "            full_filler=filler.reindex(full_index) # reindex with the full_index of times from the Calorieseries function \n",
    "            filler=full_filler.transpose()\n",
    "            filler=filler.rename(index={0: str(date)}) # rename the index (row name) with the corresponding date\n",
    "            HR_df = HR_df.append(filler, ignore_index=False) # add this row to the data frame initialized before the for loop\n",
    "        else:\n",
    "            del indexed_HR['time']\n",
    "            full_HR=indexed_HR.reindex(full_index) # reindex with the full_index of times\n",
    "            full_HR=full_HR.interpolate() # interpolate missing values\n",
    "            full_HR=full_HR.fillna(method='bfill') # back fill rows that start with nan\n",
    "            HR2=full_HR.transpose()\n",
    "            HR2=HR2.rename(index={'value': str(date)}) # rename the index (row name) with the corresponding date\n",
    "            HR_df = HR_df.append(HR2, ignore_index=False) # add this row to the data frame initialized before the for loop\n",
    "    \n",
    "    # the 'name' variable reflects the folder and file name we are saving the full data frame to:\n",
    "    name='HR_Second_Timeseries/HR_Second_Timeseries_', str(start_date),'.csv'\n",
    "    name=\"\".join(name)\n",
    "    # adding in the full path saves the file to the exact location specified earlier:\n",
    "    full_path=path, name\n",
    "    full_path=\"\".join(full_path)\n",
    "    HR_df.to_csv(full_path)\n",
    "    \n",
    "    # save 'HR_df1' as a global variable to explore directly in this notebook\n",
    "    global HR_Seconds_df1\n",
    "    HR_Seconds_df1 = HR_df\n",
    "    return HR_Seconds_df1"
   ]
  },
  {
   "cell_type": "markdown",
   "metadata": {},
   "source": [
    "## 6. Run HR_SeriesSeconds and Explore CSV File/Global Variable! "
   ]
  },
  {
   "cell_type": "code",
   "execution_count": 164,
   "metadata": {
    "collapsed": false
   },
   "outputs": [
    {
     "data": {
      "text/html": [
       "<div>\n",
       "<table border=\"1\" class=\"dataframe\">\n",
       "  <thead>\n",
       "    <tr style=\"text-align: right;\">\n",
       "      <th>time</th>\n",
       "      <th>00:00:00</th>\n",
       "      <th>00:00:01</th>\n",
       "      <th>00:00:02</th>\n",
       "      <th>00:00:03</th>\n",
       "      <th>00:00:04</th>\n",
       "      <th>00:00:05</th>\n",
       "      <th>00:00:06</th>\n",
       "      <th>00:00:07</th>\n",
       "      <th>00:00:08</th>\n",
       "      <th>00:00:09</th>\n",
       "      <th>...</th>\n",
       "      <th>23:59:50</th>\n",
       "      <th>23:59:51</th>\n",
       "      <th>23:59:52</th>\n",
       "      <th>23:59:53</th>\n",
       "      <th>23:59:54</th>\n",
       "      <th>23:59:55</th>\n",
       "      <th>23:59:56</th>\n",
       "      <th>23:59:57</th>\n",
       "      <th>23:59:58</th>\n",
       "      <th>23:59:59</th>\n",
       "    </tr>\n",
       "  </thead>\n",
       "  <tbody>\n",
       "    <tr>\n",
       "      <th>2016-02-13</th>\n",
       "      <td>59</td>\n",
       "      <td>59</td>\n",
       "      <td>59</td>\n",
       "      <td>59</td>\n",
       "      <td>59</td>\n",
       "      <td>59</td>\n",
       "      <td>59.0</td>\n",
       "      <td>59.0</td>\n",
       "      <td>59.0</td>\n",
       "      <td>59.0</td>\n",
       "      <td>...</td>\n",
       "      <td>58</td>\n",
       "      <td>58</td>\n",
       "      <td>58</td>\n",
       "      <td>58</td>\n",
       "      <td>58</td>\n",
       "      <td>58</td>\n",
       "      <td>58</td>\n",
       "      <td>58</td>\n",
       "      <td>58</td>\n",
       "      <td>58</td>\n",
       "    </tr>\n",
       "    <tr>\n",
       "      <th>2016-02-14</th>\n",
       "      <td>58</td>\n",
       "      <td>58</td>\n",
       "      <td>58</td>\n",
       "      <td>58</td>\n",
       "      <td>58</td>\n",
       "      <td>58</td>\n",
       "      <td>58.2</td>\n",
       "      <td>58.4</td>\n",
       "      <td>58.6</td>\n",
       "      <td>58.8</td>\n",
       "      <td>...</td>\n",
       "      <td>63</td>\n",
       "      <td>63</td>\n",
       "      <td>63</td>\n",
       "      <td>63</td>\n",
       "      <td>63</td>\n",
       "      <td>63</td>\n",
       "      <td>63</td>\n",
       "      <td>63</td>\n",
       "      <td>63</td>\n",
       "      <td>63</td>\n",
       "    </tr>\n",
       "    <tr>\n",
       "      <th>2016-02-15</th>\n",
       "      <td>62</td>\n",
       "      <td>62</td>\n",
       "      <td>62</td>\n",
       "      <td>62</td>\n",
       "      <td>62</td>\n",
       "      <td>62</td>\n",
       "      <td>62.2</td>\n",
       "      <td>62.4</td>\n",
       "      <td>62.6</td>\n",
       "      <td>62.8</td>\n",
       "      <td>...</td>\n",
       "      <td>74</td>\n",
       "      <td>74</td>\n",
       "      <td>74</td>\n",
       "      <td>74</td>\n",
       "      <td>74</td>\n",
       "      <td>74</td>\n",
       "      <td>74</td>\n",
       "      <td>74</td>\n",
       "      <td>74</td>\n",
       "      <td>74</td>\n",
       "    </tr>\n",
       "    <tr>\n",
       "      <th>2016-02-16</th>\n",
       "      <td>73</td>\n",
       "      <td>73</td>\n",
       "      <td>73</td>\n",
       "      <td>73</td>\n",
       "      <td>73</td>\n",
       "      <td>73</td>\n",
       "      <td>73.0</td>\n",
       "      <td>73.0</td>\n",
       "      <td>73.0</td>\n",
       "      <td>73.0</td>\n",
       "      <td>...</td>\n",
       "      <td>54</td>\n",
       "      <td>54</td>\n",
       "      <td>54</td>\n",
       "      <td>54</td>\n",
       "      <td>54</td>\n",
       "      <td>54</td>\n",
       "      <td>54</td>\n",
       "      <td>54</td>\n",
       "      <td>54</td>\n",
       "      <td>54</td>\n",
       "    </tr>\n",
       "  </tbody>\n",
       "</table>\n",
       "<p>4 rows × 86400 columns</p>\n",
       "</div>"
      ],
      "text/plain": [
       "time        00:00:00  00:00:01  00:00:02  00:00:03  00:00:04  00:00:05  \\\n",
       "2016-02-13        59        59        59        59        59        59   \n",
       "2016-02-14        58        58        58        58        58        58   \n",
       "2016-02-15        62        62        62        62        62        62   \n",
       "2016-02-16        73        73        73        73        73        73   \n",
       "\n",
       "time        00:00:06  00:00:07  00:00:08  00:00:09    ...     23:59:50  \\\n",
       "2016-02-13      59.0      59.0      59.0      59.0    ...           58   \n",
       "2016-02-14      58.2      58.4      58.6      58.8    ...           63   \n",
       "2016-02-15      62.2      62.4      62.6      62.8    ...           74   \n",
       "2016-02-16      73.0      73.0      73.0      73.0    ...           54   \n",
       "\n",
       "time        23:59:51  23:59:52  23:59:53  23:59:54  23:59:55  23:59:56  \\\n",
       "2016-02-13        58        58        58        58        58        58   \n",
       "2016-02-14        63        63        63        63        63        63   \n",
       "2016-02-15        74        74        74        74        74        74   \n",
       "2016-02-16        54        54        54        54        54        54   \n",
       "\n",
       "time        23:59:57  23:59:58  23:59:59  \n",
       "2016-02-13        58        58        58  \n",
       "2016-02-14        63        63        63  \n",
       "2016-02-15        74        74        74  \n",
       "2016-02-16        54        54        54  \n",
       "\n",
       "[4 rows x 86400 columns]"
      ]
     },
     "execution_count": 164,
     "metadata": {},
     "output_type": "execute_result"
    }
   ],
   "source": [
    "HR_SeriesSeconds(start_date,end_date) # obtain heart rate time-series data"
   ]
  },
  {
   "cell_type": "markdown",
   "metadata": {},
   "source": [
    "## 7. Plot Heart Rate Time Series"
   ]
  },
  {
   "cell_type": "code",
   "execution_count": 168,
   "metadata": {
    "collapsed": false
   },
   "outputs": [
    {
     "data": {
      "image/png": "[encoded data removed]",
      "text/plain": [
       "<matplotlib.figure.Figure at 0x209152f10>"
      ]
     },
     "metadata": {},
     "output_type": "display_data"
    }
   ],
   "source": [
    "time=pd.to_datetime(full_index)\n",
    "plt.plot(time, HR_Seconds_df1.iloc[1]) # plot one date of heart rate data\n",
    "plt.gcf().autofmt_xdate()"
   ]
  }
 ],
 "metadata": {
  "kernelspec": {
   "display_name": "Python 2",
   "language": "python",
   "name": "python2"
  },
  "language_info": {
   "codemirror_mode": {
    "name": "ipython",
    "version": 2
   },
   "file_extension": ".py",
   "mimetype": "text/x-python",
   "name": "python",
   "nbconvert_exporter": "python",
   "pygments_lexer": "ipython2",
   "version": "2.7.10"
  }
 },
 "nbformat": 4,
 "nbformat_minor": 0
}
