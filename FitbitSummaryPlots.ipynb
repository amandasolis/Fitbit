{
 "cells": [
  {
   "cell_type": "markdown",
   "metadata": {},
   "source": [
    "# Plotting Fitbit Data"
   ]
  },
  {
   "cell_type": "code",
   "execution_count": 1,
   "metadata": {
    "collapsed": true
   },
   "outputs": [],
   "source": [
    "%matplotlib inline\n",
    "\n",
    "import numpy as np\n",
    "import pandas as pd\n",
    "import calmap\n",
    "import glob\n",
    "import matplotlib.pyplot as plt\n",
    "import matplotlib as mpl\n",
    "import plotly\n",
    "import plotly.graph_objs as go\n",
    "import datetime as dt"
   ]
  },
  {
   "cell_type": "code",
   "execution_count": 3,
   "metadata": {
    "collapsed": false,
    "scrolled": true
   },
   "outputs": [
    {
     "data": {
      "image/png": "[encoded data removed]",
      "text/plain": [
       "<matplotlib.figure.Figure at 0x1059c2a50>"
      ]
     },
     "metadata": {},
     "output_type": "display_data"
    }
   ],
   "source": [
    "\"\"\"create a heatmap of daily total steps burned\"\"\"\n",
    "allFiles = glob.glob(\"Data/Activities_Summary/*.csv\") # create a list of all data files\n",
    "fulldf = []\n",
    "for file_ in allFiles: # for loop to merge data files\n",
    "    df = pd.read_csv(str(file_), index_col=0)\n",
    "    fulldf.append(df)\n",
    "fulldf = pd.concat(fulldf)\n",
    "fulldf.index=pd.to_datetime(fulldf.index) # use date as index\n",
    "fulldf = fulldf[fulldf.steps != 0] # remove days without data\n",
    "events = pd.Series(fulldf['steps'])\n",
    "# create a heat map of steps walked per day\n",
    "fig,ax=calmap.calendarplot(events, monthticks=True, cmap='GnBu', vmin=0, vmax=max(fulldf['steps'])+1000,\n",
    "                    fillcolor='gainsboro', linecolor='white', linewidth=2,\n",
    "                    fig_kws=dict(figsize=(12, 8)));\n",
    "cax = fig.add_axes([1.0, 0.2, 0.02, 0.6])\n",
    "norm1 = mpl.colors.Normalize(0,max(fulldf['steps'])+1000)\n",
    "cb = mpl.colorbar.ColorbarBase(cax, cmap='GnBu', norm=norm1, spacing='proportional')\n",
    "cb.set_label('# of Steps')"
   ]
  },
  {
   "cell_type": "code",
   "execution_count": 4,
   "metadata": {
    "collapsed": false
   },
   "outputs": [
    {
     "name": "stdout",
     "output_type": "stream",
     "text": [
      "            activeScore  activityCalories  caloriesBMR  caloriesOut  \\\n",
      "2015-10-24           -1              1319         1437         2528   \n",
      "2015-10-25           -1              1449         1437         2601   \n",
      "2015-10-26           -1              1074         1437         2278   \n",
      "2015-10-27           -1               912         1437         2118   \n",
      "2015-10-28           -1              1087         1437         2284   \n",
      "\n",
      "            elevation  fairlyActiveMinutes  floors  lightlyActiveMinutes  \\\n",
      "2015-10-24        130                   13      13                   206   \n",
      "2015-10-25         20                   25       2                   291   \n",
      "2015-10-26        380                   20      38                   250   \n",
      "2015-10-27        190                   13      19                   260   \n",
      "2015-10-28        250                    7      25                   228   \n",
      "\n",
      "            marginalCalories  restingHeartRate  sedentaryMinutes  steps  \\\n",
      "2015-10-24               836                70               508   8868   \n",
      "2015-10-25               821                68               567   9534   \n",
      "2015-10-26               561                66               679   9170   \n",
      "2015-10-27               423                64               706   7107   \n",
      "2015-10-28               583                63               644  11133   \n",
      "\n",
      "            veryActiveMinutes  dayofweek  \n",
      "2015-10-24                 60          6  \n",
      "2015-10-25                 44          7  \n",
      "2015-10-26                 28          1  \n",
      "2015-10-27                 14          2  \n",
      "2015-10-28                 50          3  \n"
     ]
    }
   ],
   "source": [
    "dayofweek = []\n",
    "\n",
    "for day in fulldf.index: # create new column for day of week\n",
    "    #datentime=dt.datetime.strptime(day, '%Y-%m-%d')\n",
    "    #dateonly=datentime.date()\n",
    "    dateonly=day.date()\n",
    "    dayofweek.append(dateonly.isoweekday())\n",
    "\n",
    "fulldf['dayofweek']=dayofweek\n",
    "print fulldf.head()"
   ]
  },
  {
   "cell_type": "markdown",
   "metadata": {},
   "source": [
    "## Create Interactive Plots with Plotly"
   ]
  },
  {
   "cell_type": "code",
   "execution_count": null,
   "metadata": {
    "collapsed": true
   },
   "outputs": [],
   "source": [
    "\"\"\"enter your Plotly username and api_key\"\"\"\n",
    "plotly.tools.set_credentials_file(username='DemoAccount', api_key='lr1c37zw81')"
   ]
  },
  {
   "cell_type": "code",
   "execution_count": 5,
   "metadata": {
    "collapsed": false
   },
   "outputs": [
    {
     "data": {
      "text/html": [
       "<iframe id=\"igraph\" scrolling=\"no\" style=\"border:none;\" seamless=\"seamless\" src=\"https://plot.ly/~amandasolis94/90.embed\" height=\"525px\" width=\"100%\"></iframe>"
      ],
      "text/plain": [
       "<plotly.tools.PlotlyDisplay object>"
      ]
     },
     "execution_count": 5,
     "metadata": {},
     "output_type": "execute_result"
    }
   ],
   "source": [
    "\"\"\"show daily step distribution as an interactive histogram\"\"\"\n",
    "trace1 = go.Histogram(\n",
    "    x=fulldf['steps'],\n",
    "    histnorm='count',\n",
    "    name='control',\n",
    "    autobinx=False,\n",
    "    xbins=dict(\n",
    "        start=500,\n",
    "        end=max(fulldf['steps'])+1000,\n",
    "        size=1000\n",
    "    ),\n",
    "    marker=dict(\n",
    "        color='blue',\n",
    "        line=dict(\n",
    "            color='grey',\n",
    "            width=0\n",
    "        )\n",
    "    ),\n",
    "    opacity=0.75\n",
    ")\n",
    "\n",
    "data = [trace1]\n",
    "layout = go.Layout(\n",
    "    title='Distribution of Daily Step Count',\n",
    "    xaxis=dict(\n",
    "        title='Total Steps'\n",
    "    ),\n",
    "    yaxis=dict(\n",
    "        title='# of Days'\n",
    "    ),\n",
    "    barmode='overlay',\n",
    "    bargap=0.25,\n",
    "    bargroupgap=0.3\n",
    ")\n",
    "fig = go.Figure(data=data, layout=layout)\n",
    "plotly.plotly.iplot(fig)"
   ]
  },
  {
   "cell_type": "code",
   "execution_count": 6,
   "metadata": {
    "collapsed": false,
    "scrolled": false
   },
   "outputs": [
    {
     "data": {
      "text/html": [
       "<iframe id=\"igraph\" scrolling=\"no\" style=\"border:none;\" seamless=\"seamless\" src=\"https://plot.ly/~amandasolis94/92.embed\" height=\"525px\" width=\"100%\"></iframe>"
      ],
      "text/plain": [
       "<plotly.tools.PlotlyDisplay object>"
      ]
     },
     "execution_count": 6,
     "metadata": {},
     "output_type": "execute_result"
    }
   ],
   "source": [
    "\"\"\"create boxplots for steps vs day of week\"\"\"\n",
    "\n",
    "daynames=['Monday', 'Tuesday', 'Wednesday', 'Thursday', 'Friday', 'Saturday', 'Sunday']\n",
    "\n",
    "Monday=fulldf.loc[fulldf['dayofweek'] == 1, 'steps']\n",
    "Tuesday=fulldf.loc[fulldf['dayofweek'] == 2, 'steps']\n",
    "Wednesday=fulldf.loc[fulldf['dayofweek'] == 3, 'steps']\n",
    "Thursday=fulldf.loc[fulldf['dayofweek'] == 4, 'steps']\n",
    "Friday=fulldf.loc[fulldf['dayofweek'] == 5, 'steps']\n",
    "Saturday=fulldf.loc[fulldf['dayofweek'] == 6, 'steps']\n",
    "Sunday=fulldf.loc[fulldf['dayofweek'] == 7, 'steps']\n",
    "\n",
    "y_data=[Monday, Tuesday, Wednesday, Thursday, Friday, Saturday, Sunday]\n",
    "\n",
    "traces = []\n",
    "\n",
    "for xd, yd in zip(daynames, y_data):\n",
    "        traces.append(go.Box(\n",
    "            y=yd,\n",
    "            name=xd,\n",
    "            boxpoints='all',\n",
    "            jitter=0.5,\n",
    "            whiskerwidth=0.2,\n",
    "            marker=dict(\n",
    "                size=2,\n",
    "            ),\n",
    "            line=dict(width=1),\n",
    "        ))\n",
    "\n",
    "layout = go.Layout(\n",
    "    title='Step Distribution vs Day of the Week',\n",
    "    yaxis=dict(\n",
    "        title='Number of Steps',\n",
    "        autorange=True,\n",
    "    ),\n",
    "    showlegend=False\n",
    ")\n",
    "\n",
    "fig = go.Figure(data=traces, layout=layout)\n",
    "plotly.plotly.iplot(fig)\n"
   ]
  },
  {
   "cell_type": "code",
   "execution_count": 7,
   "metadata": {
    "collapsed": false
   },
   "outputs": [],
   "source": [
    "\"\"\"to generate heatmap load steps timeseries data\"\"\"\n",
    "\n",
    "allFiles = glob.glob(\"Data/Steps_Timeseries/*.csv\") # create a list of all data files\n",
    "fulldf = []\n",
    "for file_ in allFiles: # for loop to merge data files\n",
    "    df = pd.read_csv(str(file_), index_col=0)\n",
    "    fulldf.append(df)\n",
    "fulldf = pd.concat(fulldf)\n",
    "fulldf=fulldf.loc[~(fulldf==0).all(axis=1)] # remove rows/days where all values = 0 (i.e. no data collected)\n",
    "\n",
    "#df = pd.read_csv(allFiles[8],index_col=0) # plot a month of data ... \n",
    "df=fulldf # ... or plot all data\n",
    "hourly_df=[]\n",
    "newlist=[]\n",
    "hours=[(dt.time(g).strftime('%I %p')) for g in range(24)]\n",
    "for i in range(0,len(df)): # iterate over dates\n",
    "    temporary=df.iloc[i]\n",
    "    hourly = [ sum(temporary[x:x+60]) for x in range(0, len(temporary), 60)] # sum steps per hour\n",
    "    newlist = [int(round(n, 0)) for n in hourly] # round steps to nearest whole number\n",
    "    hourly_df.append(newlist) # append to new df"
   ]
  },
  {
   "cell_type": "code",
   "execution_count": 8,
   "metadata": {
    "collapsed": false
   },
   "outputs": [
    {
     "data": {
      "text/html": [
       "<iframe id=\"igraph\" scrolling=\"no\" style=\"border:none;\" seamless=\"seamless\" src=\"https://plot.ly/~amandasolis94/2.embed\" height=\"525px\" width=\"100%\"></iframe>"
      ],
      "text/plain": [
       "<plotly.tools.PlotlyDisplay object>"
      ]
     },
     "execution_count": 8,
     "metadata": {},
     "output_type": "execute_result"
    }
   ],
   "source": [
    "\"\"\"create a heatmap of steps walked per hour\"\"\"\n",
    "x=hours\n",
    "y=list(df.index)\n",
    "heat = go.Heatmap(z=hourly_df, y=y, x=x, colorscale='Viridis')\n",
    "\n",
    "fig = go.Figure(data=[heat])\n",
    "\n",
    "fig['layout'].update(title=\"Steps Walked Per Hour\")\n",
    "\n",
    "plotly.plotly.iplot(fig, filename='basic-heatmap')"
   ]
  }
 ],
 "metadata": {
  "kernelspec": {
   "display_name": "Python 2",
   "language": "python",
   "name": "python2"
  },
  "language_info": {
   "codemirror_mode": {
    "name": "ipython",
    "version": 2
   },
   "file_extension": ".py",
   "mimetype": "text/x-python",
   "name": "python",
   "nbconvert_exporter": "python",
   "pygments_lexer": "ipython2",
   "version": "2.7.10"
  }
 },
 "nbformat": 4,
 "nbformat_minor": 0
}
