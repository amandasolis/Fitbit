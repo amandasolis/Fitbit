{
 "cells": [
  {
   "cell_type": "markdown",
   "metadata": {},
   "source": [
    "# Collecting and Visualizing Fitbit Data for a Single Date\n",
    "To start viewing your own data and saving it as a CSV, you really only need to adjust the following variables in this notebook:\n",
    "\n",
    "  * USER_ID, CLIENT_SECRET (your own Fitbit credentials)\n",
    "  * date"
   ]
  },
  {
   "cell_type": "markdown",
   "metadata": {},
   "source": [
    "## 1. Import the necessary Python libraries and modules: "
   ]
  },
  {
   "cell_type": "code",
   "execution_count": 21,
   "metadata": {
    "collapsed": true
   },
   "outputs": [],
   "source": [
    "#!/usr/bin/python      \n",
    "%matplotlib inline\n",
    "\n",
    "import fitbit\n",
    "import matplotlib.pyplot as plt\n",
    "import gather_keys_oauth2 as Oauth2\n",
    "import numpy as np\n",
    "import datetime\n",
    "import pandas as pd\n",
    "import csv\n",
    "import re\n",
    "import seaborn as sns\n",
    "from scipy.stats import linregress \n",
    "from IPython.display import display"
   ]
  },
  {
   "cell_type": "markdown",
   "metadata": {},
   "source": [
    "## 2. Access the Fitbit API\n",
    "Replace 'your USER_ID' and 'your CLIENT_SECRET' ([follow this tutorial to obtain these](http://blog.mr-but-dr.xyz/en/programming/fitbit-python-heartrate-howto/)) to access your Fitbit data:"
   ]
  },
  {
   "cell_type": "code",
   "execution_count": 7,
   "metadata": {
    "collapsed": false
   },
   "outputs": [
    {
     "name": "stderr",
     "output_type": "stream",
     "text": [
      "[08/Jul/2016:11:02:28] ENGINE Listening for SIGHUP.\n",
      "INFO:cherrypy.error:[08/Jul/2016:11:02:28] ENGINE Listening for SIGHUP.\n",
      "[08/Jul/2016:11:02:28] ENGINE Listening for SIGTERM.\n",
      "INFO:cherrypy.error:[08/Jul/2016:11:02:28] ENGINE Listening for SIGTERM.\n",
      "[08/Jul/2016:11:02:28] ENGINE Listening for SIGUSR1.\n",
      "INFO:cherrypy.error:[08/Jul/2016:11:02:28] ENGINE Listening for SIGUSR1.\n",
      "[08/Jul/2016:11:02:28] ENGINE Bus STARTING\n",
      "INFO:cherrypy.error:[08/Jul/2016:11:02:28] ENGINE Bus STARTING\n",
      "CherryPy Checker:\n",
      "The Application mounted at '' has an empty config.\n",
      "\n",
      "[08/Jul/2016:11:02:28] ENGINE Started monitor thread '_TimeoutMonitor'.\n",
      "INFO:cherrypy.error:[08/Jul/2016:11:02:28] ENGINE Started monitor thread '_TimeoutMonitor'.\n",
      "[08/Jul/2016:11:02:28] ENGINE Started monitor thread 'Autoreloader'.\n",
      "INFO:cherrypy.error:[08/Jul/2016:11:02:28] ENGINE Started monitor thread 'Autoreloader'.\n",
      "[08/Jul/2016:11:02:28] ENGINE Serving on http://127.0.0.1:8080\n",
      "INFO:cherrypy.error:[08/Jul/2016:11:02:28] ENGINE Serving on http://127.0.0.1:8080\n",
      "[08/Jul/2016:11:02:28] ENGINE Bus STARTED\n",
      "INFO:cherrypy.error:[08/Jul/2016:11:02:28] ENGINE Bus STARTED\n",
      "INFO:cherrypy.access.4491608336:127.0.0.1 - - [08/Jul/2016:11:02:30] \"GET /?code=71b183924efdf94ba8456369520fb5b26493d893&state=aTE5MrXIvdkCT2iUyKP6Gjb67Cgqeo HTTP/1.1\" 200 122 \"\" \"Mozilla/5.0 (Macintosh; Intel Mac OS X 10_10_5) AppleWebKit/537.36 (KHTML, like Gecko) Chrome/51.0.2704.103 Safari/537.36\"\n",
      "[08/Jul/2016:11:02:31] ENGINE Bus STOPPING\n",
      "INFO:cherrypy.error:[08/Jul/2016:11:02:31] ENGINE Bus STOPPING\n",
      "[08/Jul/2016:11:02:36] ENGINE HTTP Server cherrypy._cpwsgi_server.CPWSGIServer(('127.0.0.1', 8080)) shut down\n",
      "INFO:cherrypy.error:[08/Jul/2016:11:02:36] ENGINE HTTP Server cherrypy._cpwsgi_server.CPWSGIServer(('127.0.0.1', 8080)) shut down\n",
      "[08/Jul/2016:11:02:36] ENGINE Stopped thread 'Autoreloader'.\n",
      "INFO:cherrypy.error:[08/Jul/2016:11:02:36] ENGINE Stopped thread 'Autoreloader'.\n",
      "[08/Jul/2016:11:02:36] ENGINE Stopped thread '_TimeoutMonitor'.\n",
      "INFO:cherrypy.error:[08/Jul/2016:11:02:36] ENGINE Stopped thread '_TimeoutMonitor'.\n",
      "[08/Jul/2016:11:02:36] ENGINE Bus STOPPED\n",
      "INFO:cherrypy.error:[08/Jul/2016:11:02:36] ENGINE Bus STOPPED\n",
      "[08/Jul/2016:11:02:36] ENGINE Bus EXITING\n",
      "INFO:cherrypy.error:[08/Jul/2016:11:02:36] ENGINE Bus EXITING\n",
      "[08/Jul/2016:11:02:36] ENGINE Bus EXITED\n",
      "INFO:cherrypy.error:[08/Jul/2016:11:02:36] ENGINE Bus EXITED\n",
      "[08/Jul/2016:11:02:36] ENGINE Waiting for child threads to terminate...\n",
      "INFO:cherrypy.error:[08/Jul/2016:11:02:36] ENGINE Waiting for child threads to terminate...\n"
     ]
    },
    {
     "name": "stdout",
     "output_type": "stream",
     "text": [
      "127.0.0.1 - - [08/Jul/2016:11:02:30] \"GET /?code=71b183924efdf94ba8456369520fb5b26493d893&state=aTE5MrXIvdkCT2iUyKP6Gjb67Cgqeo HTTP/1.1\" 200 122 \"\" \"Mozilla/5.0 (Macintosh; Intel Mac OS X 10_10_5) AppleWebKit/537.36 (KHTML, like Gecko) Chrome/51.0.2704.103 Safari/537.36\"\n"
     ]
    }
   ],
   "source": [
    "\"\"\"provide your credentials for OAuth2.0\"\"\"\n",
    "USER_ID = 'your USER_ID' # should look something like this: '123A4B'\n",
    "CLIENT_SECRET = 'your CLIENT_SECRET' # should look something like this: 'c321fvdc59b4cc62156n9luv20k39072'\n",
    "\n",
    "\"\"\"obtain access and refresh tokens\"\"\"\n",
    "server = Oauth2.OAuth2Server(USER_ID, CLIENT_SECRET)\n",
    "server.browser_authorize()\n",
    " \n",
    "ACCESS_TOKEN = server.oauth.token['access_token']\n",
    "REFRESH_TOKEN = server.oauth.token['refresh_token']\n",
    " \n",
    "\"\"\"complete authorization\"\"\"\n",
    "auth2_client = fitbit.Fitbit(USER_ID, CLIENT_SECRET, oauth2=True, access_token=ACCESS_TOKEN, refresh_token=REFRESH_TOKEN)"
   ]
  },
  {
   "cell_type": "markdown",
   "metadata": {},
   "source": [
    "## 3. Pick a Date"
   ]
  },
  {
   "cell_type": "code",
   "execution_count": 115,
   "metadata": {
    "collapsed": false
   },
   "outputs": [],
   "source": [
    "date=str(datetime.date(2016, 3, 9))"
   ]
  },
  {
   "cell_type": "markdown",
   "metadata": {},
   "source": [
    "## 4. Collect Time-Series Data\n"
   ]
  },
  {
   "cell_type": "code",
   "execution_count": 141,
   "metadata": {
    "collapsed": false
   },
   "outputs": [
    {
     "name": "stdout",
     "output_type": "stream",
     "text": [
      "----CALORIE STATS----\n",
      "First 5 Rows of Calories Data:\n",
      "   level  mets      time   value\n",
      "0      0    10  00:00:00  0.9986\n",
      "1      0    10  00:01:00  0.9986\n",
      "2      0    10  00:02:00  0.9986\n",
      "3      0    10  00:03:00  0.9986\n",
      "4      0    10  00:04:00  0.9986\n",
      "Total Calorie Samples (fixed): 1440\n",
      "Total Calories burned: 1913.51731384\n",
      "Min Calories burned in a minute: 0.998600006104\n",
      "Max Calories burned in a minute: 6.59076023102\n"
     ]
    }
   ],
   "source": [
    "\"\"\"Timeseries data of Calories and Activity Level\"\"\"\n",
    "\n",
    "fitbit_cals = auth2_client.intraday_time_series('activities/log/calories', base_date=date, detail_level='1min')\n",
    "Calstats = fitbit_cals['activities-log-calories-intraday']['dataset']\n",
    "Cals=pd.DataFrame(Calstats)\n",
    "\n",
    "print \"----CALORIE STATS----\"\n",
    "print 'First 5 Rows of Calories Data:'\n",
    "print Cals.head(n=5)\n",
    "print 'Total Calorie Samples (fixed):', len(Cals.index)\n",
    "\n",
    "Calsmax = Cals['value'].max()\n",
    "Calsmin = Cals['value'].min()\n",
    "Calsmean = Cals['value'].mean()\n",
    "CalsSumm = Cals['value'].sum()\n",
    "\n",
    "print \"Total Calories burned:\", CalsSumm \n",
    "print \"Min Calories burned in a minute:\", Calsmin \n",
    "print \"Max Calories burned in a minute:\", Calsmax \n",
    "\n",
    "#Save Calorie Timeseries to CSV\n",
    "del Cals['mets'] # delets 'mets' column \n",
    "del Cals['level'] # delete 'level' column\n",
    "\n",
    "Cals=Cals.transpose()\n",
    "Cals.columns = Cals.iloc[0]\n",
    "Cals=Cals.reindex(Cals.index.drop('time'))\n",
    "Cals=Cals.rename(index={'value': str(date)})\n",
    "\n",
    "full_index=Cals.columns.values\n",
    "Cals.to_csv('Cals-timeseries.csv')"
   ]
  },
  {
   "cell_type": "code",
   "execution_count": 143,
   "metadata": {
    "collapsed": false
   },
   "outputs": [
    {
     "name": "stdout",
     "output_type": "stream",
     "text": [
      "----HEART RATE STATS----\n",
      "First 5 Samples of Heart Rate Data:\n",
      "       time  value\n",
      "0  00:00:00     58\n",
      "1  00:01:00     63\n",
      "2  00:02:00     64\n",
      "3  00:03:00     64\n",
      "4  00:04:00     65\n",
      "Total HR Samples (variable): 1420\n",
      "Avg HR: 67.0042253521\n",
      "Max HR: 118\n",
      "Min HR: 51\n"
     ]
    }
   ],
   "source": [
    "\"\"\"Timeseries data of Heartrate\"\"\"\n",
    "\n",
    "fitbit_stats = auth2_client.intraday_time_series('activities/heart', base_date=date, detail_level='1min')\n",
    "stats = fitbit_stats['activities-heart-intraday']['dataset']\n",
    "HR=pd.DataFrame(stats)\n",
    "\n",
    "print \"----HEART RATE STATS----\"\n",
    "print 'First 5 Samples of Heart Rate Data:'\n",
    "print HR.head(n=5)\n",
    "print 'Total HR Samples (variable):', len(HR.index)\n",
    "\n",
    "HRmax = HR['value'].max()\n",
    "HRmin = HR['value'].min()\n",
    "HRmean = HR['value'].mean()\n",
    "\n",
    "print \"Avg HR:\", HRmean\n",
    "print \"Max HR:\", HRmax\n",
    "print \"Min HR:\", HRmin\n",
    "\n",
    "#Save HR Timeseries to CSV\n",
    "HR=HR.transpose()\n",
    "HR.columns = HR.iloc[0]\n",
    "HR=HR.reindex(HR.index.drop('time'))\n",
    "HR2=HR.transpose()\n",
    "full_HR=HR2.reindex(full_index) # reindex with the full_index of times from Calorie series \n",
    "HR=full_HR.transpose()\n",
    "HR=HR.rename(index={'value': str(date)})\n",
    "HR.to_csv('HR-timeseries.csv')"
   ]
  },
  {
   "cell_type": "code",
   "execution_count": 146,
   "metadata": {
    "collapsed": false
   },
   "outputs": [
    {
     "name": "stdout",
     "output_type": "stream",
     "text": [
      "----STEPS STATS----\n",
      "First 5 Rows of Steps Data:\n",
      "       time  value\n",
      "0  00:00:00      0\n",
      "1  00:01:00      0\n",
      "2  00:02:00      0\n",
      "3  00:03:00      0\n",
      "4  00:04:00      0\n",
      "Total Steps Samples (fixed): 1440\n",
      "Total Steps walked: 4960\n",
      "Min Steps walked in a minute: 0\n",
      "Max Steps walked in a minute: 106\n",
      "Average Steps walked in a minute: 3.44444444444\n"
     ]
    }
   ],
   "source": [
    "\"\"\"Timeseries data of Steps\"\"\"\n",
    "\n",
    "fitbit_steps = auth2_client.intraday_time_series('activities/steps', base_date=date, detail_level='1min')\n",
    "Stepsstats = fitbit_steps['activities-steps-intraday']['dataset']\n",
    "Steps=pd.DataFrame(Stepsstats)\n",
    "\n",
    "print \"----STEPS STATS----\"\n",
    "print 'First 5 Rows of Steps Data:'\n",
    "print Steps.head(n=5)\n",
    "print 'Total Steps Samples (fixed):', len(Steps.index)\n",
    "\n",
    "Stepsmax = Steps['value'].max()\n",
    "Stepsmin = Steps['value'].min()\n",
    "Stepsmean = Steps['value'].mean()\n",
    "StepsSumm = Steps['value'].sum()\n",
    "\n",
    "print \"Total Steps walked:\", StepsSumm \n",
    "print \"Min Steps walked in a minute:\", Stepsmin \n",
    "print \"Max Steps walked in a minute:\", Stepsmax \n",
    "print \"Average Steps walked in a minute:\", Stepsmean\n",
    "\n",
    "#Save Steps Timeseries to CSV\n",
    "Steps=Steps.transpose()\n",
    "Steps.columns = Steps.iloc[0]\n",
    "Steps=Steps.reindex(Steps.index.drop('time'))\n",
    "Steps=Steps.rename(index={'value': str(date)})\n",
    "Steps.to_csv('Steps-timeseries.csv')"
   ]
  },
  {
   "cell_type": "code",
   "execution_count": 89,
   "metadata": {
    "collapsed": false
   },
   "outputs": [
    {
     "name": "stdout",
     "output_type": "stream",
     "text": [
      "----SLEEP STATS----\n",
      "First 5 Rows of Sleep Data:\n",
      "   dateTime value\n",
      "0  22:55:00     2\n",
      "1  22:56:00     2\n",
      "2  22:57:00     2\n",
      "3  22:58:00     1\n",
      "4  22:59:00     1\n",
      "Total Sleep Minutes Sampled (variable): 503\n",
      "{'Very Awake (3)': 8, 'Awake (2)': 50, 'Asleep (1)': 445}\n"
     ]
    }
   ],
   "source": [
    "\"\"\"Timeseries data of Sleep\"\"\"\n",
    "fitbit_sleep = auth2_client.sleep(date)\n",
    "try: # try the following:\n",
    "    sleepstats = fitbit_sleep['sleep'][0]['minuteData']\n",
    "except IndexError: # create empty/filler data if no timeseries data collected:\n",
    "    filler=pd.DataFrame(np.empty(1400, dtype=object))\n",
    "    full_filler=filler.reindex(full_index) # reindex with the full_index of times from the Calorieseries function \n",
    "    filler=full_filler.transpose()\n",
    "    filler=filler.rename(index={0: str(date)}) # rename the index (row name) with the corresponding date\n",
    "    Sleep=filler\n",
    "else: # check for multiple sleep records\n",
    "    if len(fitbit_sleep['sleep']) >= 2: # if multiple sleep records exist for one day, combine all records:\n",
    "        for record in range(1,len(fitbit_sleep['sleep'])-1): # loop through sleep records\n",
    "            temp=fitbit_sleep['sleep'][record]['minuteData'] # create temporary sleep record\n",
    "            sleepstats = sleepstats + [x for x in temp if x not in sleepstats] # append temporary record to full sleepstats\n",
    "    else: # if there are not multiple records, continue with initial sleepstats variable:\n",
    "        pass   \n",
    "    Sleep=pd.DataFrame(sleepstats)\n",
    "    Sleep['dateTime']=Sleep['dateTime'].astype(str)\n",
    "    sleeptimes=Sleep['dateTime']\n",
    "    i=0\n",
    "    for val in Sleep['dateTime']: \n",
    "        val2=re.sub('30$', '00', val)\n",
    "        Sleep.set_value(i,'dateTime',val2)\n",
    "        i=i+1\n",
    "\n",
    "values=Sleep['value']\n",
    "SleepValues = values.astype(float)\n",
    "\n",
    "print \"----SLEEP STATS----\"\n",
    "print 'First 5 Rows of Sleep Data:'\n",
    "print Sleep.head(n=5)\n",
    "print 'Total Sleep Minutes Sampled (variable):', len(Sleep.index)\n",
    "\n",
    "counts = Sleep['value'].value_counts().to_dict()\n",
    "counts['Asleep (1)'] = counts.pop('1')\n",
    "counts['Awake (2)'] = counts.pop('2')\n",
    "counts['Very Awake (3)'] = counts.pop('3')\n",
    "\n",
    "print counts\n",
    "    \n",
    "Sleep=Sleep.transpose()\n",
    "Sleep.columns = Sleep.iloc[0] # use 'time' stamp to rename columns with 00:00, 00:01 ... 23:58, 23:59\n",
    "Sleep=Sleep.reindex(Sleep.index.drop('dateTime')) # drop redundant information (time now reflected as column name)\n",
    "Sleep2=Sleep.transpose()\n",
    "full_Sleep=Sleep2.reindex(full_index) # reindex with the full_index of times from the Calorieseries function \n",
    "Sleep=full_Sleep.transpose()\n",
    "Sleep=Sleep.rename(index={'value': str(date)}) \n",
    "Sleep.to_csv('Sleep-timeseries3.csv')"
   ]
  },
  {
   "cell_type": "markdown",
   "metadata": {},
   "source": [
    "## 5. Plot Time-Series Data"
   ]
  },
  {
   "cell_type": "code",
   "execution_count": 116,
   "metadata": {
    "collapsed": false,
    "scrolled": false
   },
   "outputs": [
    {
     "data": {
      "image/png": "[encoded data removed]",
      "text/plain": [
       "<matplotlib.figure.Figure at 0x1195d9ed0>"
      ]
     },
     "metadata": {},
     "output_type": "display_data"
    },
    {
     "data": {
      "image/png": "[encoded data removed]",
      "text/plain": [
       "<matplotlib.figure.Figure at 0x1195f4890>"
      ]
     },
     "metadata": {},
     "output_type": "display_data"
    },
    {
     "data": {
      "image/png": "[encoded data removed]",
      "text/plain": [
       "<matplotlib.figure.Figure at 0x112b6ded0>"
      ]
     },
     "metadata": {},
     "output_type": "display_data"
    },
    {
     "data": {
      "image/png": "[encoded data removed]",
      "text/plain": [
       "<matplotlib.figure.Figure at 0x1129daed0>"
      ]
     },
     "metadata": {},
     "output_type": "display_data"
    },
    {
     "data": {
      "image/png": "[encoded data removed]",
      "text/plain": [
       "<matplotlib.figure.Figure at 0x11deea810>"
      ]
     },
     "metadata": {},
     "output_type": "display_data"
    },
    {
     "data": {
      "image/png": "[encoded data removed]",
      "text/plain": [
       "<matplotlib.figure.Figure at 0x11d413c50>"
      ]
     },
     "metadata": {},
     "output_type": "display_data"
    },
    {
     "data": {
      "image/png": "[encoded data removed]",
      "text/plain": [
       "<matplotlib.figure.Figure at 0x125836310>"
      ]
     },
     "metadata": {},
     "output_type": "display_data"
    },
    {
     "data": {
      "image/png": "[encoded data removed]",
      "text/plain": [
       "<matplotlib.figure.Figure at 0x10c9c8090>"
      ]
     },
     "metadata": {},
     "output_type": "display_data"
    },
    {
     "data": {
      "image/png": "[encoded data removed]",
      "text/plain": [
       "<matplotlib.figure.Figure at 0x10c9f5790>"
      ]
     },
     "metadata": {},
     "output_type": "display_data"
    }
   ],
   "source": [
    "\"\"\"Histograms\"\"\"\n",
    "\n",
    "# HR Histogram\n",
    "plt.figure(1)\n",
    "plt.hist(HR.iloc[0], bins=len(stats), range=(HRmin,HRmax))\n",
    "#sns.distplot(HR);\n",
    "plt.title('Distribution of HR Values')\n",
    "plt.ylabel('Samples')\n",
    "plt.xlabel('HR Value')\n",
    "\n",
    "# Calories Histogram\n",
    "plt.figure(2)\n",
    "plt.hist(Cals.iloc[0], bins=len(Calstats), range=(Calsmin,Calsmax))\n",
    "#sns.distplot(Cals);\n",
    "plt.title('Distribution of Calories Burned Per Minute')\n",
    "plt.ylabel('Minutes')\n",
    "plt.xlabel('Calories Burned')\n",
    "\n",
    "# Steps Histogram\n",
    "plt.figure(3)\n",
    "plt.hist(Steps.iloc[0], bins=len(Stepsstats), range=(Stepsmin,Stepsmax))\n",
    "#sns.distplot(Steps);\n",
    "axes = plt.gca()\n",
    "axes.set_ylim([0,40])\n",
    "plt.title('Distribution of Steps Walked Per Minute')\n",
    "plt.ylabel('Minutes')\n",
    "plt.xlabel('Steps Walked')\n",
    "\n",
    "# Sleep Histogram\n",
    "fig = plt.figure(4)\n",
    "plt.hist(SleepValues, range=(0.5,3.5))\n",
    "#sns.distplot(Sleep);\n",
    "plt.title('Distribution of Sleep Quality')\n",
    "plt.ylabel('Minutes')\n",
    "plt.xlabel('Sleep Quality')\n",
    "quality = '1.0=Asleep', '2.0=Awake', '3.0=Very Awake'\n",
    "fig.text(1,.5,quality)\n",
    "\n",
    "\"\"\"Line Plots\"\"\"\n",
    "\n",
    "time=pd.to_datetime(full_index)\n",
    "time1 = [t.replace(year=2016, month=6, day=13) for t in time]\n",
    "\n",
    "# HR Over Time\n",
    "plt.figure(5)\n",
    "plt.plot(time1, HR.iloc[0])\n",
    "plt.gcf().autofmt_xdate()\n",
    "plt.title('Heart Rate Over Time')\n",
    "plt.ylabel('Heart Rate')\n",
    "plt.xlabel('Time of Day')\n",
    "\n",
    "# Calories Over Time\n",
    "plt.figure(6)\n",
    "plt.plot(time1, Cals.iloc[0])\n",
    "plt.gcf().autofmt_xdate()\n",
    "plt.title('Calories Over Time')\n",
    "plt.ylabel('Calories Burned ')\n",
    "plt.xlabel('Time of Day')\n",
    "\n",
    "# Steps Over Time\n",
    "plt.figure(7)\n",
    "plt.plot(time1, Steps.iloc[0])\n",
    "plt.gcf().autofmt_xdate()\n",
    "plt.title('Steps Over Time')\n",
    "plt.ylabel('Steps Per Minute ')\n",
    "plt.xlabel('Time of Day')\n",
    "\n",
    "# Sleep Quality Over Time\n",
    "fig=plt.figure(8)\n",
    "plt.plot(time1, list(Sleep.iloc[0]))\n",
    "plt.gcf().autofmt_xdate()\n",
    "plt.gca().set_ylim([0,4])\n",
    "plt.title('Sleep Quality Over Time')\n",
    "plt.ylabel('Sleep Quality ')\n",
    "plt.xlabel('Time of Day')\n",
    "quality = '1.0=Asleep', '2.0=Awake', '3.0=Very Awake'\n",
    "fig.text(1,.5,quality)\n",
    "\n",
    "fig=plt.figure(9)\n",
    "plt.plot(time1, HR.iloc[0], 'r', label=\"Heart Rate\")\n",
    "plt.plot(time1, Steps.iloc[0], 'g', label=\"Steps\")\n",
    "plt.plot(time1, Cals.iloc[0], 'b', label=\"Calories\")\n",
    "plt.plot(time1, list(Sleep.iloc[0]), 'k',label=\"Sleep\")\n",
    "plt.gcf().autofmt_xdate()\n",
    "#plt.yscale('log') #Log Scale\n",
    "plt.legend( loc='center left', numpoints = 1, fancybox=True, shadow=True, bbox_to_anchor=(1, 0.5),ncol=2)\n",
    "plt.title('Overlay of Time Series Data')\n",
    "plt.ylabel('Value')\n",
    "plt.xlabel('Time of Day')\n",
    "\n",
    "plt.show()"
   ]
  },
  {
   "cell_type": "markdown",
   "metadata": {},
   "source": [
    "## 6. Collect Daily Summary Data"
   ]
  },
  {
   "cell_type": "code",
   "execution_count": 137,
   "metadata": {
    "collapsed": false
   },
   "outputs": [],
   "source": [
    "\"\"\"SLEEP SUMMARY\"\"\"\n",
    "\n",
    "SleepStats = fitbit_sleep['sleep']\n",
    "del SleepStats[0]['minuteData']\n",
    "\n",
    "SleepSumm=pd.DataFrame(SleepStats)\n",
    "SleepSumm=SleepSumm.rename(index={0: str(date)})\n",
    "SleepSumm.to_csv('Sleep-Summary.csv')\n"
   ]
  },
  {
   "cell_type": "code",
   "execution_count": 138,
   "metadata": {
    "collapsed": false
   },
   "outputs": [],
   "source": [
    "\"\"\" ACTIVITIES SUMMARY \"\"\"\n",
    "\n",
    "active_list = auth2_client.activities(date)\n",
    "activities_summary=active_list['summary']\n",
    "\n",
    "'''Distances Summary'''\n",
    "\n",
    "distances=activities_summary['distances']\n",
    "DistSumm=pd.DataFrame(distances)\n",
    "DistSumm=DistSumm.transpose()\n",
    "DistSumm.columns = DistSumm.iloc[0]\n",
    "DistSumm=DistSumm.reindex(DistSumm.index.drop('activity'))\n",
    "DistSumm=DistSumm.rename(index={'distance': str(date)})\n",
    "DistSumm.to_csv('Distances-Summary.csv')\n",
    "\n",
    "'''HR Zones Summary'''\n",
    "\n",
    "HRzones=activities_summary['heartRateZones'] \n",
    "HRSumm=pd.DataFrame(HRzones) \n",
    "HRSumm.rows = HRSumm.iloc[0]\n",
    "HRSumm=HRSumm.rename(index={0:\"Out of Range\", 1:\"Fat Burn\", 2:\"Cardio\", 3:\"Peak\"})\n",
    "del HRSumm['name'] #delete duplicated info now that indexes are named\n",
    "HRflat=HRSumm.values.flatten() #Flatten dataframe into single row\n",
    "HRSumm2=pd.DataFrame(HRflat)\n",
    "HRSumm2=HRSumm2.transpose()\n",
    "HRSumm2=HRSumm2.rename(columns={0:\"OutRange.caloriesOut\", 1:\"OR.max\", 2:\"OR.min\", 3:\"OR.minutes\", 4:\"FatBurn.caloriesOut\", 5:\"FB.max\", 6:\"FB.min\", 7:\"FB.minutes\", 8:\"Cardio.caloriesOut\", 9:\"C.max\", 10:\"C.min\", 11:\"C.minutes\", 12:\"Peak.caloriesOut\", 13:\"P.max\", 14:\"P.min\", 15:\"P.minutes\"})\n",
    "HRSumm2=HRSumm2.rename(index={0: str(date)})\n",
    "HRSumm2.to_csv('HR-Summary.csv')\n",
    "\n",
    "\"\"\"Remaining Activity Data Summary\"\"\"\n",
    "\n",
    "del activities_summary['distances']\n",
    "del activities_summary['heartRateZones']\n",
    "\n",
    "ActivitiesSumm=pd.DataFrame(activities_summary.items())\n",
    "ActivitiesSumm=ActivitiesSumm.transpose()\n",
    "ActivitiesSumm.columns = ActivitiesSumm.iloc[0]\n",
    "ActivitiesSumm=ActivitiesSumm.reindex(ActivitiesSumm.index.drop(0))\n",
    "ActivitiesSumm=ActivitiesSumm.rename(index={1: str(date)})\n",
    "ActivitiesSumm.to_csv('Activities-Summary.csv')"
   ]
  },
  {
   "cell_type": "markdown",
   "metadata": {},
   "source": [
    "## 7. Explore Files/Data Frames! "
   ]
  },
  {
   "cell_type": "code",
   "execution_count": 148,
   "metadata": {
    "collapsed": false
   },
   "outputs": [
    {
     "name": "stdout",
     "output_type": "stream",
     "text": [
      "Activity Summary\n"
     ]
    },
    {
     "data": {
      "text/html": [
       "<div>\n",
       "<table border=\"1\" class=\"dataframe\">\n",
       "  <thead>\n",
       "    <tr style=\"text-align: right;\">\n",
       "      <th></th>\n",
       "      <th>marginalCalories</th>\n",
       "      <th>elevation</th>\n",
       "      <th>sedentaryMinutes</th>\n",
       "      <th>lightlyActiveMinutes</th>\n",
       "      <th>caloriesOut</th>\n",
       "      <th>caloriesBMR</th>\n",
       "      <th>fairlyActiveMinutes</th>\n",
       "      <th>veryActiveMinutes</th>\n",
       "      <th>activityCalories</th>\n",
       "      <th>steps</th>\n",
       "      <th>floors</th>\n",
       "      <th>activeScore</th>\n",
       "      <th>restingHeartRate</th>\n",
       "    </tr>\n",
       "  </thead>\n",
       "  <tbody>\n",
       "    <tr>\n",
       "      <th>2016-03-09</th>\n",
       "      <td>282</td>\n",
       "      <td>200</td>\n",
       "      <td>734</td>\n",
       "      <td>201</td>\n",
       "      <td>1913</td>\n",
       "      <td>1437</td>\n",
       "      <td>0</td>\n",
       "      <td>0</td>\n",
       "      <td>621</td>\n",
       "      <td>4960</td>\n",
       "      <td>20</td>\n",
       "      <td>-1</td>\n",
       "      <td>61</td>\n",
       "    </tr>\n",
       "  </tbody>\n",
       "</table>\n",
       "</div>"
      ],
      "text/plain": [
       "0          marginalCalories elevation sedentaryMinutes lightlyActiveMinutes  \\\n",
       "2016-03-09              282       200              734                  201   \n",
       "\n",
       "0          caloriesOut caloriesBMR fairlyActiveMinutes veryActiveMinutes  \\\n",
       "2016-03-09        1913        1437                   0                 0   \n",
       "\n",
       "0          activityCalories steps floors activeScore restingHeartRate  \n",
       "2016-03-09              621  4960     20          -1               61  "
      ]
     },
     "metadata": {},
     "output_type": "display_data"
    },
    {
     "name": "stdout",
     "output_type": "stream",
     "text": [
      "Distances Summary\n"
     ]
    },
    {
     "data": {
      "text/html": [
       "<div>\n",
       "<table border=\"1\" class=\"dataframe\">\n",
       "  <thead>\n",
       "    <tr style=\"text-align: right;\">\n",
       "      <th>activity</th>\n",
       "      <th>total</th>\n",
       "      <th>tracker</th>\n",
       "      <th>loggedActivities</th>\n",
       "      <th>veryActive</th>\n",
       "      <th>moderatelyActive</th>\n",
       "      <th>lightlyActive</th>\n",
       "      <th>sedentaryActive</th>\n",
       "    </tr>\n",
       "  </thead>\n",
       "  <tbody>\n",
       "    <tr>\n",
       "      <th>2016-03-09</th>\n",
       "      <td>2.04</td>\n",
       "      <td>2.04</td>\n",
       "      <td>0</td>\n",
       "      <td>0</td>\n",
       "      <td>0</td>\n",
       "      <td>2.04</td>\n",
       "      <td>0</td>\n",
       "    </tr>\n",
       "  </tbody>\n",
       "</table>\n",
       "</div>"
      ],
      "text/plain": [
       "activity   total tracker loggedActivities veryActive moderatelyActive  \\\n",
       "2016-03-09  2.04    2.04                0          0                0   \n",
       "\n",
       "activity   lightlyActive sedentaryActive  \n",
       "2016-03-09          2.04               0  "
      ]
     },
     "metadata": {},
     "output_type": "display_data"
    },
    {
     "name": "stdout",
     "output_type": "stream",
     "text": [
      "Heart Rate Zones Summary\n"
     ]
    },
    {
     "data": {
      "text/html": [
       "<div>\n",
       "<table border=\"1\" class=\"dataframe\">\n",
       "  <thead>\n",
       "    <tr style=\"text-align: right;\">\n",
       "      <th></th>\n",
       "      <th>OutRange.caloriesOut</th>\n",
       "      <th>OR.max</th>\n",
       "      <th>OR.min</th>\n",
       "      <th>OR.minutes</th>\n",
       "      <th>FatBurn.caloriesOut</th>\n",
       "      <th>FB.max</th>\n",
       "      <th>FB.min</th>\n",
       "      <th>FB.minutes</th>\n",
       "      <th>Cardio.caloriesOut</th>\n",
       "      <th>C.max</th>\n",
       "      <th>C.min</th>\n",
       "      <th>C.minutes</th>\n",
       "      <th>Peak.caloriesOut</th>\n",
       "      <th>P.max</th>\n",
       "      <th>P.min</th>\n",
       "      <th>P.minutes</th>\n",
       "    </tr>\n",
       "  </thead>\n",
       "  <tbody>\n",
       "    <tr>\n",
       "      <th>2016-03-09</th>\n",
       "      <td>1845.71238</td>\n",
       "      <td>99</td>\n",
       "      <td>30</td>\n",
       "      <td>1409</td>\n",
       "      <td>47.13392</td>\n",
       "      <td>139</td>\n",
       "      <td>99</td>\n",
       "      <td>11</td>\n",
       "      <td>0</td>\n",
       "      <td>169</td>\n",
       "      <td>139</td>\n",
       "      <td>0</td>\n",
       "      <td>0</td>\n",
       "      <td>220</td>\n",
       "      <td>169</td>\n",
       "      <td>0</td>\n",
       "    </tr>\n",
       "  </tbody>\n",
       "</table>\n",
       "</div>"
      ],
      "text/plain": [
       "            OutRange.caloriesOut  OR.max  OR.min  OR.minutes  \\\n",
       "2016-03-09            1845.71238      99      30        1409   \n",
       "\n",
       "            FatBurn.caloriesOut  FB.max  FB.min  FB.minutes  \\\n",
       "2016-03-09             47.13392     139      99          11   \n",
       "\n",
       "            Cardio.caloriesOut  C.max  C.min  C.minutes  Peak.caloriesOut  \\\n",
       "2016-03-09                   0    169    139          0                 0   \n",
       "\n",
       "            P.max  P.min  P.minutes  \n",
       "2016-03-09    220    169          0  "
      ]
     },
     "metadata": {},
     "output_type": "display_data"
    },
    {
     "name": "stdout",
     "output_type": "stream",
     "text": [
      "Sleep Summary\n"
     ]
    },
    {
     "data": {
      "text/html": [
       "<div>\n",
       "<table border=\"1\" class=\"dataframe\">\n",
       "  <thead>\n",
       "    <tr style=\"text-align: right;\">\n",
       "      <th></th>\n",
       "      <th>awakeCount</th>\n",
       "      <th>awakeDuration</th>\n",
       "      <th>awakeningsCount</th>\n",
       "      <th>dateOfSleep</th>\n",
       "      <th>duration</th>\n",
       "      <th>efficiency</th>\n",
       "      <th>isMainSleep</th>\n",
       "      <th>logId</th>\n",
       "      <th>minutesAfterWakeup</th>\n",
       "      <th>minutesAsleep</th>\n",
       "      <th>minutesAwake</th>\n",
       "      <th>minutesToFallAsleep</th>\n",
       "      <th>restlessCount</th>\n",
       "      <th>restlessDuration</th>\n",
       "      <th>startTime</th>\n",
       "      <th>timeInBed</th>\n",
       "    </tr>\n",
       "  </thead>\n",
       "  <tbody>\n",
       "    <tr>\n",
       "      <th>2016-03-09</th>\n",
       "      <td>2</td>\n",
       "      <td>8</td>\n",
       "      <td>34</td>\n",
       "      <td>2016-02-01</td>\n",
       "      <td>30180000</td>\n",
       "      <td>88</td>\n",
       "      <td>True</td>\n",
       "      <td>10774693527</td>\n",
       "      <td>0</td>\n",
       "      <td>445</td>\n",
       "      <td>58</td>\n",
       "      <td>0</td>\n",
       "      <td>32</td>\n",
       "      <td>50</td>\n",
       "      <td>2016-01-31T22:55:00.000</td>\n",
       "      <td>503</td>\n",
       "    </tr>\n",
       "  </tbody>\n",
       "</table>\n",
       "</div>"
      ],
      "text/plain": [
       "            awakeCount  awakeDuration  awakeningsCount dateOfSleep  duration  \\\n",
       "2016-03-09           2              8               34  2016-02-01  30180000   \n",
       "\n",
       "            efficiency isMainSleep        logId  minutesAfterWakeup  \\\n",
       "2016-03-09          88        True  10774693527                   0   \n",
       "\n",
       "            minutesAsleep  minutesAwake  minutesToFallAsleep  restlessCount  \\\n",
       "2016-03-09            445            58                    0             32   \n",
       "\n",
       "            restlessDuration                startTime  timeInBed  \n",
       "2016-03-09                50  2016-01-31T22:55:00.000        503  "
      ]
     },
     "metadata": {},
     "output_type": "display_data"
    },
    {
     "name": "stdout",
     "output_type": "stream",
     "text": [
      "Sleep Time-Series\n"
     ]
    },
    {
     "data": {
      "text/html": [
       "<div>\n",
       "<table border=\"1\" class=\"dataframe\">\n",
       "  <thead>\n",
       "    <tr style=\"text-align: right;\">\n",
       "      <th>dateTime</th>\n",
       "      <th>00:00:00</th>\n",
       "      <th>00:01:00</th>\n",
       "      <th>00:02:00</th>\n",
       "      <th>00:03:00</th>\n",
       "      <th>00:04:00</th>\n",
       "      <th>00:05:00</th>\n",
       "      <th>00:06:00</th>\n",
       "      <th>00:07:00</th>\n",
       "      <th>00:08:00</th>\n",
       "      <th>00:09:00</th>\n",
       "      <th>...</th>\n",
       "      <th>23:50:00</th>\n",
       "      <th>23:51:00</th>\n",
       "      <th>23:52:00</th>\n",
       "      <th>23:53:00</th>\n",
       "      <th>23:54:00</th>\n",
       "      <th>23:55:00</th>\n",
       "      <th>23:56:00</th>\n",
       "      <th>23:57:00</th>\n",
       "      <th>23:58:00</th>\n",
       "      <th>23:59:00</th>\n",
       "    </tr>\n",
       "  </thead>\n",
       "  <tbody>\n",
       "    <tr>\n",
       "      <th>2016-02-01</th>\n",
       "      <td>1</td>\n",
       "      <td>1</td>\n",
       "      <td>1</td>\n",
       "      <td>1</td>\n",
       "      <td>1</td>\n",
       "      <td>1</td>\n",
       "      <td>1</td>\n",
       "      <td>1</td>\n",
       "      <td>1</td>\n",
       "      <td>1</td>\n",
       "      <td>...</td>\n",
       "      <td>1</td>\n",
       "      <td>1</td>\n",
       "      <td>1</td>\n",
       "      <td>1</td>\n",
       "      <td>1</td>\n",
       "      <td>1</td>\n",
       "      <td>1</td>\n",
       "      <td>1</td>\n",
       "      <td>1</td>\n",
       "      <td>1</td>\n",
       "    </tr>\n",
       "  </tbody>\n",
       "</table>\n",
       "<p>1 rows × 1440 columns</p>\n",
       "</div>"
      ],
      "text/plain": [
       "dateTime   00:00:00 00:01:00 00:02:00 00:03:00 00:04:00 00:05:00 00:06:00  \\\n",
       "2016-02-01        1        1        1        1        1        1        1   \n",
       "\n",
       "dateTime   00:07:00 00:08:00 00:09:00   ...    23:50:00 23:51:00 23:52:00  \\\n",
       "2016-02-01        1        1        1   ...           1        1        1   \n",
       "\n",
       "dateTime   23:53:00 23:54:00 23:55:00 23:56:00 23:57:00 23:58:00 23:59:00  \n",
       "2016-02-01        1        1        1        1        1        1        1  \n",
       "\n",
       "[1 rows x 1440 columns]"
      ]
     },
     "metadata": {},
     "output_type": "display_data"
    },
    {
     "name": "stdout",
     "output_type": "stream",
     "text": [
      "Calories Time-Series\n"
     ]
    },
    {
     "data": {
      "text/html": [
       "<div>\n",
       "<table border=\"1\" class=\"dataframe\">\n",
       "  <thead>\n",
       "    <tr style=\"text-align: right;\">\n",
       "      <th>time</th>\n",
       "      <th>00:00:00</th>\n",
       "      <th>00:01:00</th>\n",
       "      <th>00:02:00</th>\n",
       "      <th>00:03:00</th>\n",
       "      <th>00:04:00</th>\n",
       "      <th>00:05:00</th>\n",
       "      <th>00:06:00</th>\n",
       "      <th>00:07:00</th>\n",
       "      <th>00:08:00</th>\n",
       "      <th>00:09:00</th>\n",
       "      <th>...</th>\n",
       "      <th>23:50:00</th>\n",
       "      <th>23:51:00</th>\n",
       "      <th>23:52:00</th>\n",
       "      <th>23:53:00</th>\n",
       "      <th>23:54:00</th>\n",
       "      <th>23:55:00</th>\n",
       "      <th>23:56:00</th>\n",
       "      <th>23:57:00</th>\n",
       "      <th>23:58:00</th>\n",
       "      <th>23:59:00</th>\n",
       "    </tr>\n",
       "  </thead>\n",
       "  <tbody>\n",
       "    <tr>\n",
       "      <th>2016-03-09</th>\n",
       "      <td>0.9986</td>\n",
       "      <td>0.9986</td>\n",
       "      <td>0.9986</td>\n",
       "      <td>0.9986</td>\n",
       "      <td>0.9986</td>\n",
       "      <td>0.9986</td>\n",
       "      <td>0.9986</td>\n",
       "      <td>0.9986</td>\n",
       "      <td>0.9986</td>\n",
       "      <td>0.9986</td>\n",
       "      <td>...</td>\n",
       "      <td>0.9986</td>\n",
       "      <td>0.9986</td>\n",
       "      <td>0.9986</td>\n",
       "      <td>0.9986</td>\n",
       "      <td>1.09846</td>\n",
       "      <td>1.09846</td>\n",
       "      <td>0.9986</td>\n",
       "      <td>0.9986</td>\n",
       "      <td>1.09846</td>\n",
       "      <td>0.9986</td>\n",
       "    </tr>\n",
       "  </tbody>\n",
       "</table>\n",
       "<p>1 rows × 1440 columns</p>\n",
       "</div>"
      ],
      "text/plain": [
       "time       00:00:00 00:01:00 00:02:00 00:03:00 00:04:00 00:05:00 00:06:00  \\\n",
       "2016-03-09   0.9986   0.9986   0.9986   0.9986   0.9986   0.9986   0.9986   \n",
       "\n",
       "time       00:07:00 00:08:00 00:09:00   ...    23:50:00 23:51:00 23:52:00  \\\n",
       "2016-03-09   0.9986   0.9986   0.9986   ...      0.9986   0.9986   0.9986   \n",
       "\n",
       "time       23:53:00 23:54:00 23:55:00 23:56:00 23:57:00 23:58:00 23:59:00  \n",
       "2016-03-09   0.9986  1.09846  1.09846   0.9986   0.9986  1.09846   0.9986  \n",
       "\n",
       "[1 rows x 1440 columns]"
      ]
     },
     "metadata": {},
     "output_type": "display_data"
    },
    {
     "name": "stdout",
     "output_type": "stream",
     "text": [
      "Steps Time-Series\n"
     ]
    },
    {
     "data": {
      "text/html": [
       "<div>\n",
       "<table border=\"1\" class=\"dataframe\">\n",
       "  <thead>\n",
       "    <tr style=\"text-align: right;\">\n",
       "      <th>time</th>\n",
       "      <th>00:00:00</th>\n",
       "      <th>00:01:00</th>\n",
       "      <th>00:02:00</th>\n",
       "      <th>00:03:00</th>\n",
       "      <th>00:04:00</th>\n",
       "      <th>00:05:00</th>\n",
       "      <th>00:06:00</th>\n",
       "      <th>00:07:00</th>\n",
       "      <th>00:08:00</th>\n",
       "      <th>00:09:00</th>\n",
       "      <th>...</th>\n",
       "      <th>23:50:00</th>\n",
       "      <th>23:51:00</th>\n",
       "      <th>23:52:00</th>\n",
       "      <th>23:53:00</th>\n",
       "      <th>23:54:00</th>\n",
       "      <th>23:55:00</th>\n",
       "      <th>23:56:00</th>\n",
       "      <th>23:57:00</th>\n",
       "      <th>23:58:00</th>\n",
       "      <th>23:59:00</th>\n",
       "    </tr>\n",
       "  </thead>\n",
       "  <tbody>\n",
       "    <tr>\n",
       "      <th>2016-03-09</th>\n",
       "      <td>0</td>\n",
       "      <td>0</td>\n",
       "      <td>0</td>\n",
       "      <td>0</td>\n",
       "      <td>0</td>\n",
       "      <td>0</td>\n",
       "      <td>0</td>\n",
       "      <td>0</td>\n",
       "      <td>0</td>\n",
       "      <td>0</td>\n",
       "      <td>...</td>\n",
       "      <td>0</td>\n",
       "      <td>0</td>\n",
       "      <td>0</td>\n",
       "      <td>0</td>\n",
       "      <td>0</td>\n",
       "      <td>0</td>\n",
       "      <td>0</td>\n",
       "      <td>0</td>\n",
       "      <td>0</td>\n",
       "      <td>0</td>\n",
       "    </tr>\n",
       "  </tbody>\n",
       "</table>\n",
       "<p>1 rows × 1440 columns</p>\n",
       "</div>"
      ],
      "text/plain": [
       "time       00:00:00 00:01:00 00:02:00 00:03:00 00:04:00 00:05:00 00:06:00  \\\n",
       "2016-03-09        0        0        0        0        0        0        0   \n",
       "\n",
       "time       00:07:00 00:08:00 00:09:00   ...    23:50:00 23:51:00 23:52:00  \\\n",
       "2016-03-09        0        0        0   ...           0        0        0   \n",
       "\n",
       "time       23:53:00 23:54:00 23:55:00 23:56:00 23:57:00 23:58:00 23:59:00  \n",
       "2016-03-09        0        0        0        0        0        0        0  \n",
       "\n",
       "[1 rows x 1440 columns]"
      ]
     },
     "metadata": {},
     "output_type": "display_data"
    },
    {
     "name": "stdout",
     "output_type": "stream",
     "text": [
      "Heart Rate Time-Series\n"
     ]
    },
    {
     "data": {
      "text/html": [
       "<div>\n",
       "<table border=\"1\" class=\"dataframe\">\n",
       "  <thead>\n",
       "    <tr style=\"text-align: right;\">\n",
       "      <th>time</th>\n",
       "      <th>00:00:00</th>\n",
       "      <th>00:01:00</th>\n",
       "      <th>00:02:00</th>\n",
       "      <th>00:03:00</th>\n",
       "      <th>00:04:00</th>\n",
       "      <th>00:05:00</th>\n",
       "      <th>00:06:00</th>\n",
       "      <th>00:07:00</th>\n",
       "      <th>00:08:00</th>\n",
       "      <th>00:09:00</th>\n",
       "      <th>...</th>\n",
       "      <th>23:50:00</th>\n",
       "      <th>23:51:00</th>\n",
       "      <th>23:52:00</th>\n",
       "      <th>23:53:00</th>\n",
       "      <th>23:54:00</th>\n",
       "      <th>23:55:00</th>\n",
       "      <th>23:56:00</th>\n",
       "      <th>23:57:00</th>\n",
       "      <th>23:58:00</th>\n",
       "      <th>23:59:00</th>\n",
       "    </tr>\n",
       "  </thead>\n",
       "  <tbody>\n",
       "    <tr>\n",
       "      <th>2016-03-09</th>\n",
       "      <td>58</td>\n",
       "      <td>63</td>\n",
       "      <td>64</td>\n",
       "      <td>64</td>\n",
       "      <td>65</td>\n",
       "      <td>65</td>\n",
       "      <td>67</td>\n",
       "      <td>67</td>\n",
       "      <td>67</td>\n",
       "      <td>67</td>\n",
       "      <td>...</td>\n",
       "      <td>61</td>\n",
       "      <td>61</td>\n",
       "      <td>59</td>\n",
       "      <td>62</td>\n",
       "      <td>62</td>\n",
       "      <td>61</td>\n",
       "      <td>61</td>\n",
       "      <td>56</td>\n",
       "      <td>57</td>\n",
       "      <td>59</td>\n",
       "    </tr>\n",
       "  </tbody>\n",
       "</table>\n",
       "<p>1 rows × 1440 columns</p>\n",
       "</div>"
      ],
      "text/plain": [
       "time       00:00:00 00:01:00 00:02:00 00:03:00 00:04:00 00:05:00 00:06:00  \\\n",
       "2016-03-09       58       63       64       64       65       65       67   \n",
       "\n",
       "time       00:07:00 00:08:00 00:09:00   ...    23:50:00 23:51:00 23:52:00  \\\n",
       "2016-03-09       67       67       67   ...          61       61       59   \n",
       "\n",
       "time       23:53:00 23:54:00 23:55:00 23:56:00 23:57:00 23:58:00 23:59:00  \n",
       "2016-03-09       62       62       61       61       56       57       59  \n",
       "\n",
       "[1 rows x 1440 columns]"
      ]
     },
     "metadata": {},
     "output_type": "display_data"
    }
   ],
   "source": [
    "from IPython.display import display\n",
    "\"\"\"preview the first 5 rows of each data frame\"\"\"\n",
    "\n",
    "print \"Activity Summary\"\n",
    "display(ActivitiesSumm)\n",
    "\n",
    "print \"Distances Summary\"\n",
    "display(DistSumm)\n",
    "\n",
    "print \"Heart Rate Zones Summary\"\n",
    "display(HRSumm2)\n",
    "\n",
    "print \"Sleep Summary\"\n",
    "display(SleepSumm)\n",
    "\n",
    "print \"Sleep Time-Series\"\n",
    "display(Sleep)\n",
    "\n",
    "print \"Calories Time-Series\"\n",
    "display(Cals)\n",
    "\n",
    "print \"Steps Time-Series\"\n",
    "display(Steps)\n",
    "\n",
    "print \"Heart Rate Time-Series\"\n",
    "display(HR)"
   ]
  }
 ],
 "metadata": {
  "kernelspec": {
   "display_name": "Python 2",
   "language": "python",
   "name": "python2"
  },
  "language_info": {
   "codemirror_mode": {
    "name": "ipython",
    "version": 2
   },
   "file_extension": ".py",
   "mimetype": "text/x-python",
   "name": "python",
   "nbconvert_exporter": "python",
   "pygments_lexer": "ipython2",
   "version": "2.7.10"
  }
 },
 "nbformat": 4,
 "nbformat_minor": 0
}
